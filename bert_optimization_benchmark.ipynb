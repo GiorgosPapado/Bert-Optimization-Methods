{
 "cells": [
  {
   "cell_type": "code",
   "execution_count": 3,
   "metadata": {},
   "outputs": [],
   "source": [
    "#!pip3 install transformers optimum[onnxruntime-gpu] evaluate datasets"
   ]
  },
  {
   "cell_type": "code",
   "execution_count": 5,
   "metadata": {},
   "outputs": [],
   "source": [
    "import torch"
   ]
  },
  {
   "cell_type": "code",
   "execution_count": 6,
   "metadata": {},
   "outputs": [
    {
     "name": "stderr",
     "output_type": "stream",
     "text": [
      "/data1/ViTgpt2/gpt2env/lib/python3.10/site-packages/tqdm/auto.py:21: TqdmWarning: IProgress not found. Please update jupyter and ipywidgets. See https://ipywidgets.readthedocs.io/en/stable/user_install.html\n",
      "  from .autonotebook import tqdm as notebook_tqdm\n"
     ]
    }
   ],
   "source": [
    "import onnxruntime as rt\n",
    "from pathlib import Path\n",
    "import timeit\n",
    "from copy import deepcopy\n",
    "from onnxruntime import InferenceSession\n",
    "from onnxruntime.transformers.optimizer import optimize_model\n",
    "from optimum.onnxruntime import ORTModelForQuestionAnswering\n",
    "from transformers import AutoTokenizer, AutoModelForQuestionAnswering"
   ]
  },
  {
   "cell_type": "code",
   "execution_count": 7,
   "metadata": {},
   "outputs": [],
   "source": [
    "def benchmark(f, name=\"\"):\n",
    "    # warmup\n",
    "    for _ in range(10):\n",
    "        f()\n",
    "    seconds_per_iter = timeit.timeit(f, number=100) / 100\n",
    "    print(\n",
    "        f\"{name}:\",\n",
    "        f\"{seconds_per_iter * 1000:.3f} ms\",\n",
    "    )\n"
   ]
  },
  {
   "cell_type": "code",
   "execution_count": 8,
   "metadata": {},
   "outputs": [],
   "source": [
    "model_base_id = \"madlag/bert-large-uncased-whole-word-masking-finetuned-squadv2\"\n",
    "model_pruned_id = \"madlag/bert-large-uncased-wwm-squadv2-x2.63-f82.6-d16-hybrid-v1\"\n",
    "device = \"cuda\""
   ]
  },
  {
   "cell_type": "code",
   "execution_count": 9,
   "metadata": {},
   "outputs": [
    {
     "name": "stdout",
     "output_type": "stream",
     "text": [
      "True\n",
      "True\n"
     ]
    }
   ],
   "source": [
    "cuda_available = torch.cuda.is_available()\n",
    "cudnn_available = torch.backends.cudnn.enabled\n",
    "print(cuda_available)\n",
    "print(cudnn_available)"
   ]
  },
  {
   "cell_type": "code",
   "execution_count": 10,
   "metadata": {},
   "outputs": [
    {
     "data": {
      "text/plain": [
       "['TensorrtExecutionProvider',\n",
       " 'CUDAExecutionProvider',\n",
       " 'AzureExecutionProvider',\n",
       " 'CPUExecutionProvider']"
      ]
     },
     "execution_count": 10,
     "metadata": {},
     "output_type": "execute_result"
    }
   ],
   "source": [
    "import onnxruntime\n",
    "onnxruntime.get_available_providers()"
   ]
  },
  {
   "cell_type": "code",
   "execution_count": 11,
   "metadata": {},
   "outputs": [],
   "source": [
    "model_path = Path(\"models/bert\")\n",
    "tokenizer_base = AutoTokenizer.from_pretrained(model_base_id)\n",
    "model = AutoModelForQuestionAnswering.from_pretrained(model_base_id).to(device)\n",
    "model.save_pretrained(model_path)"
   ]
  },
  {
   "cell_type": "code",
   "execution_count": 12,
   "metadata": {},
   "outputs": [],
   "source": [
    "model_pruned_path = Path(\"models/bert_pruned\")\n",
    "tokenizer_pruned = AutoTokenizer.from_pretrained(model_pruned_id)\n",
    "model_pruned = AutoModelForQuestionAnswering.from_pretrained(model_pruned_id).to(device)\n",
    "model_pruned.save_pretrained(model_pruned_path)"
   ]
  },
  {
   "cell_type": "code",
   "execution_count": 13,
   "metadata": {},
   "outputs": [
    {
     "name": "stderr",
     "output_type": "stream",
     "text": [
      "Framework not specified. Using pt to export to ONNX.\n",
      "Using the export variant default. Available variants are:\n",
      "\t- default: The default ONNX variant.\n",
      "Using framework PyTorch: 2.0.1+cu118\n",
      "Overriding 1 configuration item(s)\n",
      "\t- use_cache -> False\n"
     ]
    },
    {
     "name": "stdout",
     "output_type": "stream",
     "text": [
      "============= Diagnostic Run torch.onnx.export version 2.0.1+cu118 =============\n",
      "verbose: False, log level: Level.ERROR\n",
      "======================= 0 NONE 0 NOTE 0 WARNING 0 ERROR ========================\n",
      "\n"
     ]
    },
    {
     "name": "stderr",
     "output_type": "stream",
     "text": [
      "2023-10-10 17:27:53.992043550 [W:onnxruntime:, session_state.cc:1162 VerifyEachNodeIsAssignedToAnEp] Some nodes were not assigned to the preferred execution providers which may or may not have an negative impact on performance. e.g. ORT explicitly assigns shape related ops to CPU to improve perf.\n",
      "2023-10-10 17:27:53.992067031 [W:onnxruntime:, session_state.cc:1164 VerifyEachNodeIsAssignedToAnEp] Rerunning with verbose output on a non-minimal build will show node assignments.\n"
     ]
    }
   ],
   "source": [
    "model_onnx_path = Path(\"models/bert_onnx_pruned\")\n",
    "model_onnx = ORTModelForQuestionAnswering.from_pretrained(model_pruned_id, export=True, provider=\"CUDAExecutionProvider\")\n",
    "model_onnx.save_pretrained(model_onnx_path)"
   ]
  },
  {
   "cell_type": "code",
   "execution_count": 14,
   "metadata": {},
   "outputs": [
    {
     "name": "stderr",
     "output_type": "stream",
     "text": [
      "2023-10-10 17:29:00.070931560 [W:onnxruntime:, session_state.cc:1162 VerifyEachNodeIsAssignedToAnEp] Some nodes were not assigned to the preferred execution providers which may or may not have an negative impact on performance. e.g. ORT explicitly assigns shape related ops to CPU to improve perf.\n",
      "2023-10-10 17:29:00.070946915 [W:onnxruntime:, session_state.cc:1164 VerifyEachNodeIsAssignedToAnEp] Rerunning with verbose output on a non-minimal build will show node assignments.\n",
      "Input hidden size (448) is not same as weight matrix dimension of q,k,v (1024). Please provide a correct input hidden size or pass in 0\n",
      "Input hidden size (448) is not same as weight matrix dimension of q,k,v (1024). Please provide a correct input hidden size or pass in 0\n",
      "Input hidden size (192) is not same as weight matrix dimension of q,k,v (1024). Please provide a correct input hidden size or pass in 0\n",
      "Input hidden size (320) is not same as weight matrix dimension of q,k,v (1024). Please provide a correct input hidden size or pass in 0\n",
      "Input hidden size (256) is not same as weight matrix dimension of q,k,v (1024). Please provide a correct input hidden size or pass in 0\n",
      "Input hidden size (256) is not same as weight matrix dimension of q,k,v (1024). Please provide a correct input hidden size or pass in 0\n",
      "Input hidden size (256) is not same as weight matrix dimension of q,k,v (1024). Please provide a correct input hidden size or pass in 0\n",
      "Input hidden size (320) is not same as weight matrix dimension of q,k,v (1024). Please provide a correct input hidden size or pass in 0\n",
      "Input hidden size (448) is not same as weight matrix dimension of q,k,v (1024). Please provide a correct input hidden size or pass in 0\n",
      "Input hidden size (256) is not same as weight matrix dimension of q,k,v (1024). Please provide a correct input hidden size or pass in 0\n",
      "Input hidden size (512) is not same as weight matrix dimension of q,k,v (1024). Please provide a correct input hidden size or pass in 0\n",
      "Input hidden size (448) is not same as weight matrix dimension of q,k,v (1024). Please provide a correct input hidden size or pass in 0\n",
      "Input hidden size (576) is not same as weight matrix dimension of q,k,v (1024). Please provide a correct input hidden size or pass in 0\n",
      "Input hidden size (704) is not same as weight matrix dimension of q,k,v (1024). Please provide a correct input hidden size or pass in 0\n",
      "Input hidden size (640) is not same as weight matrix dimension of q,k,v (1024). Please provide a correct input hidden size or pass in 0\n",
      "Input hidden size (896) is not same as weight matrix dimension of q,k,v (1024). Please provide a correct input hidden size or pass in 0\n",
      "Input hidden size (896) is not same as weight matrix dimension of q,k,v (1024). Please provide a correct input hidden size or pass in 0\n",
      "Input hidden size (704) is not same as weight matrix dimension of q,k,v (1024). Please provide a correct input hidden size or pass in 0\n",
      "Input hidden size (832) is not same as weight matrix dimension of q,k,v (1024). Please provide a correct input hidden size or pass in 0\n",
      "Input hidden size (832) is not same as weight matrix dimension of q,k,v (1024). Please provide a correct input hidden size or pass in 0\n",
      "Input hidden size (768) is not same as weight matrix dimension of q,k,v (1024). Please provide a correct input hidden size or pass in 0\n",
      "Input hidden size (512) is not same as weight matrix dimension of q,k,v (1024). Please provide a correct input hidden size or pass in 0\n",
      "Input hidden size (384) is not same as weight matrix dimension of q,k,v (1024). Please provide a correct input hidden size or pass in 0\n",
      "Input hidden size (512) is not same as weight matrix dimension of q,k,v (1024). Please provide a correct input hidden size or pass in 0\n"
     ]
    }
   ],
   "source": [
    "optimized_onnx_path = str(model_onnx_path / \"optimized.onnx\")\n",
    "optimized_model = optimize_model(input=str(model_onnx_path / \"model.onnx\"), model_type=\"bert\", use_gpu=True)\n",
    "optimized_model.save_model_to_file(optimized_onnx_path)"
   ]
  },
  {
   "cell_type": "code",
   "execution_count": 15,
   "metadata": {},
   "outputs": [],
   "source": [
    "optimized_fp16_model_path = str(model_onnx_path / \"optimized_fp16.onnx\")\n",
    "optimized_fp16_model = deepcopy(optimized_model)\n",
    "optimized_fp16_model.convert_float_to_float16()\n",
    "optimized_fp16_model.save_model_to_file(optimized_fp16_model_path)"
   ]
  },
  {
   "cell_type": "code",
   "execution_count": 16,
   "metadata": {},
   "outputs": [],
   "source": [
    "question, text = \"Who was Jim Henson?\", \"Jim Henson was a nice puppet\"\n",
    "inputs_base = tokenizer_base(question, text, return_tensors=\"pt\").to(device)\n",
    "inputs = tokenizer_pruned(question, text, return_tensors=\"pt\").to(device)\n",
    "inputs_onnx = dict(tokenizer_pruned(question, text, return_tensors=\"np\"))"
   ]
  },
  {
   "cell_type": "code",
   "execution_count": 17,
   "metadata": {},
   "outputs": [
    {
     "name": "stdout",
     "output_type": "stream",
     "text": [
      "huggingface/tokenizers: The current process just got forked, after parallelism has already been used. Disabling parallelism to avoid deadlocks...\n",
      "To disable this warning, you can either:\n",
      "\t- Avoid using `tokenizers` before the fork if possible\n",
      "\t- Explicitly set the environment variable TOKENIZERS_PARALLELISM=(true | false)\n",
      "total 1275M\n",
      "-rwxrwxrwx 1 root root    1M Οκτ  10 17:25 config.json\n",
      "-rwxrwxrwx 1 root root 1275M Οκτ  10 17:25 pytorch_model.bin\n"
     ]
    }
   ],
   "source": [
    "!ls -lh --block-size=M ./models/bert"
   ]
  },
  {
   "cell_type": "code",
   "execution_count": 18,
   "metadata": {},
   "outputs": [
    {
     "name": "stdout",
     "output_type": "stream",
     "text": [
      "huggingface/tokenizers: The current process just got forked, after parallelism has already been used. Disabling parallelism to avoid deadlocks...\n",
      "To disable this warning, you can either:\n",
      "\t- Avoid using `tokenizers` before the fork if possible\n",
      "\t- Explicitly set the environment variable TOKENIZERS_PARALLELISM=(true | false)\n",
      "total 1085M\n",
      "-rwxrwxrwx 1 root root    1M Οκτ  10 17:27 config.json\n",
      "-rwxrwxrwx 1 root root 1085M Οκτ  10 17:27 pytorch_model.bin\n"
     ]
    }
   ],
   "source": [
    "!ls -lh --block-size=M ./models/bert_pruned"
   ]
  },
  {
   "cell_type": "code",
   "execution_count": 19,
   "metadata": {},
   "outputs": [
    {
     "name": "stdout",
     "output_type": "stream",
     "text": [
      "huggingface/tokenizers: The current process just got forked, after parallelism has already been used. Disabling parallelism to avoid deadlocks...\n",
      "To disable this warning, you can either:\n",
      "\t- Avoid using `tokenizers` before the fork if possible\n",
      "\t- Explicitly set the environment variable TOKENIZERS_PARALLELISM=(true | false)\n",
      "total 2723M\n",
      "-rwxrwxrwx 1 root root    1M Οκτ  10 17:27 config.json\n",
      "-rwxrwxrwx 1 root root 1085M Οκτ  10 17:28 model.onnx\n",
      "-rwxrwxrwx 1 root root  553M Οκτ  10 17:30 optimized_fp16.onnx\n",
      "-rwxrwxrwx 1 root root 1085M Οκτ  10 17:29 optimized.onnx\n",
      "-rwxrwxrwx 1 root root    1M Οκτ  10 17:27 special_tokens_map.json\n",
      "-rwxrwxrwx 1 root root    1M Οκτ  10 17:27 tokenizer_config.json\n",
      "-rwxrwxrwx 1 root root    1M Οκτ  10 17:27 tokenizer.json\n",
      "-rwxrwxrwx 1 root root    1M Οκτ  10 17:27 vocab.txt\n"
     ]
    }
   ],
   "source": [
    "!ls -lh --block-size=M ./models/bert_onnx_pruned"
   ]
  },
  {
   "cell_type": "code",
   "execution_count": 20,
   "metadata": {},
   "outputs": [
    {
     "data": {
      "text/plain": [
       "'GPU'"
      ]
     },
     "execution_count": 20,
     "metadata": {},
     "output_type": "execute_result"
    }
   ],
   "source": [
    "import onnxruntime as ort\n",
    "ort.get_device()"
   ]
  },
  {
   "cell_type": "code",
   "execution_count": 21,
   "metadata": {},
   "outputs": [
    {
     "data": {
      "text/plain": [
       "['TensorrtExecutionProvider',\n",
       " 'CUDAExecutionProvider',\n",
       " 'AzureExecutionProvider',\n",
       " 'CPUExecutionProvider']"
      ]
     },
     "execution_count": 21,
     "metadata": {},
     "output_type": "execute_result"
    }
   ],
   "source": [
    "ort.get_available_providers()"
   ]
  },
  {
   "cell_type": "code",
   "execution_count": null,
   "metadata": {},
   "outputs": [],
   "source": [
    "providers=[\"TensorrtExecutionProvider\", \"CUDAExecutionProvider\"]\n",
    "sess = InferenceSession(str(model_onnx_path / \"model.onnx\"), providers=providers)\n",
    "optimized_sess = InferenceSession(str(model_onnx_path / \"optimized.onnx\"), providers=providers)\n",
    "optimized_fp16_sess = InferenceSession(\n",
    "    str(model_onnx_path / \"optimized_fp16.onnx\"), providers=providers\n",
    ")"
   ]
  },
  {
   "cell_type": "code",
   "execution_count": 23,
   "metadata": {},
   "outputs": [
    {
     "name": "stdout",
     "output_type": "stream",
     "text": [
      "Pytorch: 15.631 ms\n",
      "Pruned Pytorch: 15.736 ms\n",
      "Pruned ONNX: 3.538 ms\n",
      "Pruned ONNX optimized: 2.387 ms\n",
      "Pruned ONNX optimized fp16: 2.096 ms\n"
     ]
    }
   ],
   "source": [
    "# %% Test inference times for all variants\n",
    "benchmark(lambda: model(**inputs_base), \"Pytorch\")\n",
    "benchmark(lambda: model_pruned(**inputs), \"Pruned Pytorch\")\n",
    "benchmark(lambda: sess.run(None, input_feed=inputs_onnx), \"Pruned ONNX\")\n",
    "benchmark(lambda: optimized_sess.run(None, input_feed=inputs_onnx), \"Pruned ONNX optimized\")\n",
    "benchmark(lambda: optimized_fp16_sess.run(None, input_feed=inputs_onnx), \"Pruned ONNX optimized fp16\")"
   ]
  },
  {
   "cell_type": "code",
   "execution_count": 24,
   "metadata": {},
   "outputs": [
    {
     "name": "stderr",
     "output_type": "stream",
     "text": [
      "Truncation was not explicitly activated but `max_length` is provided a specific value, please use `truncation=True` to explicitly truncate examples to max length. Defaulting to 'longest_first' truncation strategy. If you encode pairs of sequences (GLUE-style) with the tokenizer you can select this strategy more precisely by providing a specific strategy to `truncation`.\n",
      "Truncation was not explicitly activated but `max_length` is provided a specific value, please use `truncation=True` to explicitly truncate examples to max length. Defaulting to 'longest_first' truncation strategy. If you encode pairs of sequences (GLUE-style) with the tokenizer you can select this strategy more precisely by providing a specific strategy to `truncation`.\n"
     ]
    },
    {
     "name": "stdout",
     "output_type": "stream",
     "text": [
      "====== Tokens 1 ======\n",
      "Pytorch (1 tokens): 15.584 ms\n",
      "Pruned Pytorch (1 tokens): 15.582 ms\n",
      "Pruned ONNX (1 tokens): 3.514 ms\n",
      "Pruned ONNX optimized (1 tokens): 2.432 ms\n",
      "Pruned ONNX optimized fp16 (1 tokens): 2.094 ms\n",
      "====== Tokens 4 ======\n",
      "Pytorch (4 tokens): 15.570 ms\n",
      "Pruned Pytorch (4 tokens): 15.658 ms\n",
      "Pruned ONNX (4 tokens): 3.592 ms\n",
      "Pruned ONNX optimized (4 tokens): 2.452 ms\n",
      "Pruned ONNX optimized fp16 (4 tokens): 2.102 ms\n",
      "====== Tokens 64 ======\n",
      "Pytorch (64 tokens): 16.132 ms\n",
      "Pruned Pytorch (64 tokens): 16.509 ms\n",
      "Pruned ONNX (64 tokens): 5.004 ms\n",
      "Pruned ONNX optimized (64 tokens): 3.833 ms\n",
      "Pruned ONNX optimized fp16 (64 tokens): 2.116 ms\n",
      "====== Tokens 256 ======\n",
      "Pytorch (256 tokens): 16.019 ms\n",
      "Pruned Pytorch (256 tokens): 15.871 ms\n",
      "Pruned ONNX (256 tokens): 10.106 ms\n",
      "Pruned ONNX optimized (256 tokens): 9.041 ms\n",
      "Pruned ONNX optimized fp16 (256 tokens): 4.606 ms\n",
      "====== Tokens 512 ======\n",
      "Pytorch (512 tokens): 28.163 ms\n",
      "Pruned Pytorch (512 tokens): 21.023 ms\n",
      "Pruned ONNX (512 tokens): 15.780 ms\n",
      "Pruned ONNX optimized (512 tokens): 13.382 ms\n",
      "Pruned ONNX optimized fp16 (512 tokens): 6.032 ms\n"
     ]
    }
   ],
   "source": [
    "MAX_SEQUENCE_LENGTH=512\n",
    "for n in [1, 4, 64, 256, 512]:\n",
    "    print(f\"====== Tokens {n} ======\")\n",
    "    txt = \" \".join([\"word\"] * n)\n",
    "\n",
    "    pt_inputs_base = tokenizer_base(question, txt, max_length=MAX_SEQUENCE_LENGTH, return_tensors=\"pt\").to(device)\n",
    "    pt_inputs = tokenizer_pruned(question, txt, max_length=MAX_SEQUENCE_LENGTH, return_tensors=\"pt\").to(device)\n",
    "    ort_inputs = dict(tokenizer_pruned(question, txt, max_length=MAX_SEQUENCE_LENGTH, return_tensors=\"np\"))\n",
    "\n",
    "    benchmark(lambda: model(**pt_inputs), f\"Pytorch ({n} tokens)\")\n",
    "    benchmark(lambda: model_pruned(**pt_inputs), f\"Pruned Pytorch ({n} tokens)\")\n",
    "    benchmark(lambda: sess.run(None, ort_inputs), f\"Pruned ONNX ({n} tokens)\")\n",
    "    benchmark(lambda: optimized_sess.run(None, ort_inputs), f\"Pruned ONNX optimized ({n} tokens)\")\n",
    "    benchmark(\n",
    "        lambda: optimized_fp16_sess.run(None, ort_inputs),\n",
    "        f\"Pruned ONNX optimized fp16 ({n} tokens)\",\n",
    "    )"
   ]
  },
  {
   "cell_type": "code",
   "execution_count": 25,
   "metadata": {},
   "outputs": [],
   "source": [
    "from pathlib import Path\n",
    "from optimum.onnxruntime import ORTModelForQuestionAnswering\n",
    "from transformers import AutoTokenizer, AutoModelForQuestionAnswering\n",
    "from datasets import load_dataset\n",
    "from evaluate import evaluator\n",
    "from transformers import QuestionAnsweringPipeline\n",
    "import pandas as pd"
   ]
  },
  {
   "cell_type": "code",
   "execution_count": 26,
   "metadata": {},
   "outputs": [
    {
     "name": "stderr",
     "output_type": "stream",
     "text": [
      "Found cached dataset squad_v2 (/home/vcl3d/.cache/huggingface/datasets/squad_v2/squad_v2/2.0.0/09187c73c1b837c95d9a249cd97c2c3f1cebada06efe667b4427714b27639b1d)\n",
      "Loading cached shuffled indices for dataset at /home/vcl3d/.cache/huggingface/datasets/squad_v2/squad_v2/2.0.0/09187c73c1b837c95d9a249cd97c2c3f1cebada06efe667b4427714b27639b1d/cache-47b303506e027dc6.arrow\n"
     ]
    }
   ],
   "source": [
    "# Load the dataset for evaluation\n",
    "data = load_dataset(\"squad_v2\", split=\"validation\").shuffle(seed=123).select(range(10000))\n",
    "task_evaluator = evaluator(\"question-answering\")\n",
    "results = []\n",
    "index = [\"Base model\", \"Pruned\", \"ONNX\", \"ONNX Optimized\", \"ONNX Optimized FP16\"]"
   ]
  },
  {
   "cell_type": "code",
   "execution_count": 27,
   "metadata": {},
   "outputs": [],
   "source": [
    "def evaluate_model(model, tokenizer):\n",
    "  eval_results = task_evaluator.compute(\n",
    "      model_or_pipeline=model,\n",
    "      tokenizer=tokenizer,\n",
    "      data=data,\n",
    "      metric=\"squad_v2\",\n",
    "      squad_v2_format=True\n",
    "  )\n",
    "  return eval_results"
   ]
  },
  {
   "cell_type": "code",
   "execution_count": 26,
   "metadata": {},
   "outputs": [],
   "source": [
    "# model_path = Path(\"models/bert/\")\n",
    "# device = \"cuda\"\n",
    "# tokenizer = AutoTokenizer.from_pretrained(\"madlag/bert-large-uncased-wwm-squadv2-x2.63-f82.6-d16-hybrid-v1\")\n",
    "# model = ORTModelForQuestionAnswering.from_pretrained(model_path, file_name=\"model.onnx\", provider='CUDAExecutionProvider').to(device)\n",
    "# pipeline = QuestionAnsweringPipeline(model, tokenizer, task=\"question-answering\")\n",
    "# results.append(evaluate_model(pipeline, tokenizer))"
   ]
  },
  {
   "cell_type": "code",
   "execution_count": 28,
   "metadata": {},
   "outputs": [],
   "source": [
    "model_path = Path(\"models/bert\")\n",
    "device = \"cuda\"\n",
    "tokenizer = AutoTokenizer.from_pretrained(\"madlag/bert-large-uncased-wwm-squadv2-x2.63-f82.6-d16-hybrid-v1\")\n",
    "model = AutoModelForQuestionAnswering.from_pretrained(model_path).to(device)\n",
    "results.append(evaluate_model(model, tokenizer))"
   ]
  },
  {
   "cell_type": "code",
   "execution_count": 28,
   "metadata": {},
   "outputs": [],
   "source": [
    "# model_pruned_path = Path(\"models/bert_pruned/\")\n",
    "# model_pruned = ORTModelForQuestionAnswering.from_pretrained(model_pruned_path, file_name=\"model.onnx\", provider='TensorrtExecutionProvider').to(device)\n",
    "# pipeline = QuestionAnsweringPipeline(model, tokenizer, task=\"question-answering\")\n",
    "# results.append(evaluate_model(pipeline, tokenizer))"
   ]
  },
  {
   "cell_type": "code",
   "execution_count": 29,
   "metadata": {},
   "outputs": [],
   "source": [
    "model_pruned_path = Path(\"models/bert_pruned\")\n",
    "model_pruned = AutoModelForQuestionAnswering.from_pretrained(model_pruned_path).to(device)\n",
    "results.append(evaluate_model(model_pruned, tokenizer))"
   ]
  },
  {
   "cell_type": "code",
   "execution_count": 30,
   "metadata": {},
   "outputs": [
    {
     "name": "stderr",
     "output_type": "stream",
     "text": [
      "2023-10-10 17:45:25.382745082 [W:onnxruntime:, session_state.cc:1162 VerifyEachNodeIsAssignedToAnEp] Some nodes were not assigned to the preferred execution providers which may or may not have an negative impact on performance. e.g. ORT explicitly assigns shape related ops to CPU to improve perf.\n",
      "2023-10-10 17:45:25.382765581 [W:onnxruntime:, session_state.cc:1164 VerifyEachNodeIsAssignedToAnEp] Rerunning with verbose output on a non-minimal build will show node assignments.\n",
      "2023-10-10 17:45:26.297321034 [W:onnxruntime:, session_state.cc:1162 VerifyEachNodeIsAssignedToAnEp] Some nodes were not assigned to the preferred execution providers which may or may not have an negative impact on performance. e.g. ORT explicitly assigns shape related ops to CPU to improve perf.\n",
      "2023-10-10 17:45:26.297336322 [W:onnxruntime:, session_state.cc:1164 VerifyEachNodeIsAssignedToAnEp] Rerunning with verbose output on a non-minimal build will show node assignments.\n",
      "The ONNX file optimized.onnx is not a regular name used in optimum.onnxruntime, the ORTModel might not behave as expected.\n",
      "The ONNX file optimized_fp16.onnx is not a regular name used in optimum.onnxruntime, the ORTModel might not behave as expected.\n"
     ]
    }
   ],
   "source": [
    "model_files = [\"model.onnx\", \"optimized.onnx\", \"optimized_fp16.onnx\"]\n",
    "\n",
    "for file_name in model_files:\n",
    "  onnx_model = ORTModelForQuestionAnswering.from_pretrained(\"models/bert_onnx_pruned/\", file_name=file_name, provider='CUDAExecutionProvider').to(device)\n",
    "  pipeline = QuestionAnsweringPipeline(onnx_model, tokenizer, task=\"question-answering\")\n",
    "  results.append(evaluate_model(pipeline, tokenizer))\n"
   ]
  },
  {
   "cell_type": "code",
   "execution_count": 62,
   "metadata": {},
   "outputs": [
    {
     "data": {
      "text/html": [
       "<div>\n",
       "<style scoped>\n",
       "    .dataframe tbody tr th:only-of-type {\n",
       "        vertical-align: middle;\n",
       "    }\n",
       "\n",
       "    .dataframe tbody tr th {\n",
       "        vertical-align: top;\n",
       "    }\n",
       "\n",
       "    .dataframe thead th {\n",
       "        text-align: right;\n",
       "    }\n",
       "</style>\n",
       "<table border=\"1\" class=\"dataframe\">\n",
       "  <thead>\n",
       "    <tr style=\"text-align: right;\">\n",
       "      <th></th>\n",
       "      <th>best_f1</th>\n",
       "      <th>latency_in_seconds</th>\n",
       "    </tr>\n",
       "  </thead>\n",
       "  <tbody>\n",
       "    <tr>\n",
       "      <th>Base model</th>\n",
       "      <td>86.078114</td>\n",
       "      <td>0.015008</td>\n",
       "    </tr>\n",
       "    <tr>\n",
       "      <th>Pruned</th>\n",
       "      <td>82.667436</td>\n",
       "      <td>0.014359</td>\n",
       "    </tr>\n",
       "    <tr>\n",
       "      <th>ONNX</th>\n",
       "      <td>82.670769</td>\n",
       "      <td>0.009796</td>\n",
       "    </tr>\n",
       "    <tr>\n",
       "      <th>ONNX Optimized</th>\n",
       "      <td>82.667436</td>\n",
       "      <td>0.008509</td>\n",
       "    </tr>\n",
       "    <tr>\n",
       "      <th>ONNX Optimized FP16</th>\n",
       "      <td>82.658651</td>\n",
       "      <td>0.005555</td>\n",
       "    </tr>\n",
       "  </tbody>\n",
       "</table>\n",
       "</div>"
      ],
      "text/plain": [
       "                       best_f1  latency_in_seconds\n",
       "Base model           86.078114            0.015008\n",
       "Pruned               82.667436            0.014359\n",
       "ONNX                 82.670769            0.009796\n",
       "ONNX Optimized       82.667436            0.008509\n",
       "ONNX Optimized FP16  82.658651            0.005555"
      ]
     },
     "execution_count": 62,
     "metadata": {},
     "output_type": "execute_result"
    }
   ],
   "source": [
    "results_df = pd.DataFrame(results, index=index)\n",
    "res = results_df[[\"best_f1\",\"latency_in_seconds\"]]\n",
    "res"
   ]
  },
  {
   "cell_type": "code",
   "execution_count": 76,
   "metadata": {},
   "outputs": [
    {
     "data": {
      "text/plain": [
       "[1.244727117009461,\n",
       " 1.059044343419373,\n",
       " 1.05940649099648,\n",
       " 1.0589743750169873,\n",
       " 0.5395128857344389]"
      ]
     },
     "execution_count": 76,
     "metadata": {},
     "output_type": "execute_result"
    }
   ],
   "source": [
    "import os\n",
    "model_size = []\n",
    "model_file_path = '/data1/ViTgpt2/models/bert/pytorch_model.bin'  \n",
    "size_in_bytes = os.path.getsize(model_file_path)\n",
    "size_in_gigabytes = size_in_bytes / 1073741824\n",
    "model_size.append(size_in_gigabytes)\n",
    "\n",
    "model_file_path = '/data1/ViTgpt2/models/bert_pruned/pytorch_model.bin'  \n",
    "size_in_bytes = os.path.getsize(model_file_path)\n",
    "size_in_gigabytes = size_in_bytes / 1073741824\n",
    "model_size.append(size_in_gigabytes)\n",
    "\n",
    "model_file_path = '/data1/ViTgpt2/models/bert_onnx_pruned/model.onnx'  \n",
    "size_in_bytes = os.path.getsize(model_file_path)\n",
    "size_in_gigabytes = size_in_bytes / 1073741824\n",
    "model_size.append(size_in_gigabytes)\n",
    "\n",
    "model_file_path = '/data1/ViTgpt2/models/bert_onnx_pruned/optimized.onnx'  \n",
    "size_in_bytes = os.path.getsize(model_file_path)\n",
    "size_in_gigabytes = size_in_bytes / 1073741824\n",
    "model_size.append(size_in_gigabytes)\n",
    "\n",
    "model_file_path = '/data1/ViTgpt2/models/bert_onnx_pruned/optimized_fp16.onnx'  \n",
    "size_in_bytes = os.path.getsize(model_file_path)\n",
    "size_in_gigabytes = size_in_bytes / 1073741824\n",
    "model_size.append(size_in_gigabytes)\n",
    "\n",
    "model_size"
   ]
  },
  {
   "cell_type": "code",
   "execution_count": 80,
   "metadata": {},
   "outputs": [
    {
     "name": "stderr",
     "output_type": "stream",
     "text": [
      "/tmp/ipykernel_70645/26171772.py:1: SettingWithCopyWarning: \n",
      "A value is trying to be set on a copy of a slice from a DataFrame.\n",
      "Try using .loc[row_indexer,col_indexer] = value instead\n",
      "\n",
      "See the caveats in the documentation: https://pandas.pydata.org/pandas-docs/stable/user_guide/indexing.html#returning-a-view-versus-a-copy\n",
      "  res[\"model size\"] = model_size\n"
     ]
    },
    {
     "data": {
      "text/html": [
       "<div>\n",
       "<style scoped>\n",
       "    .dataframe tbody tr th:only-of-type {\n",
       "        vertical-align: middle;\n",
       "    }\n",
       "\n",
       "    .dataframe tbody tr th {\n",
       "        vertical-align: top;\n",
       "    }\n",
       "\n",
       "    .dataframe thead th {\n",
       "        text-align: right;\n",
       "    }\n",
       "</style>\n",
       "<table border=\"1\" class=\"dataframe\">\n",
       "  <thead>\n",
       "    <tr style=\"text-align: right;\">\n",
       "      <th></th>\n",
       "      <th>best_f1</th>\n",
       "      <th>latency_in_seconds</th>\n",
       "      <th>model size</th>\n",
       "    </tr>\n",
       "  </thead>\n",
       "  <tbody>\n",
       "    <tr>\n",
       "      <th>Base model</th>\n",
       "      <td>86.078114</td>\n",
       "      <td>0.015008</td>\n",
       "      <td>1.244727</td>\n",
       "    </tr>\n",
       "    <tr>\n",
       "      <th>Pruned</th>\n",
       "      <td>82.667436</td>\n",
       "      <td>0.014359</td>\n",
       "      <td>1.059044</td>\n",
       "    </tr>\n",
       "    <tr>\n",
       "      <th>ONNX</th>\n",
       "      <td>82.670769</td>\n",
       "      <td>0.009796</td>\n",
       "      <td>1.059406</td>\n",
       "    </tr>\n",
       "    <tr>\n",
       "      <th>ONNX Optimized</th>\n",
       "      <td>82.667436</td>\n",
       "      <td>0.008509</td>\n",
       "      <td>1.058974</td>\n",
       "    </tr>\n",
       "    <tr>\n",
       "      <th>ONNX Optimized FP16</th>\n",
       "      <td>82.658651</td>\n",
       "      <td>0.005555</td>\n",
       "      <td>0.539513</td>\n",
       "    </tr>\n",
       "  </tbody>\n",
       "</table>\n",
       "</div>"
      ],
      "text/plain": [
       "                       best_f1  latency_in_seconds  model size\n",
       "Base model           86.078114            0.015008    1.244727\n",
       "Pruned               82.667436            0.014359    1.059044\n",
       "ONNX                 82.670769            0.009796    1.059406\n",
       "ONNX Optimized       82.667436            0.008509    1.058974\n",
       "ONNX Optimized FP16  82.658651            0.005555    0.539513"
      ]
     },
     "execution_count": 80,
     "metadata": {},
     "output_type": "execute_result"
    }
   ],
   "source": [
    "res[\"model size\"] = model_size\n",
    "res"
   ]
  },
  {
   "cell_type": "code",
   "execution_count": 84,
   "metadata": {},
   "outputs": [
    {
     "data": {
      "image/png": "[encoded data removed]",
      "text/plain": [
       "<Figure size 1000x600 with 1 Axes>"
      ]
     },
     "metadata": {},
     "output_type": "display_data"
    }
   ],
   "source": [
    "model_names = res.index\n",
    "latency_values = res['latency_in_seconds']\n",
    "\n",
    "plt.figure(figsize=(10, 6))\n",
    "plt.plot(model_names, latency_values, marker='o', linestyle='-')\n",
    "plt.xlabel('Models')\n",
    "plt.ylabel('Latency in Seconds')\n",
    "plt.title('Bert QA')\n",
    "plt.xticks(rotation=45)  \n",
    "\n",
    "\n",
    "plt.tight_layout()\n",
    "plt.grid(True)\n",
    "plt.show()"
   ]
  },
  {
   "cell_type": "code",
   "execution_count": 82,
   "metadata": {},
   "outputs": [
    {
     "data": {
      "image/png": "[encoded data removed]",
      "text/plain": [
       "<Figure size 1000x600 with 1 Axes>"
      ]
     },
     "metadata": {},
     "output_type": "display_data"
    }
   ],
   "source": [
    "import matplotlib.pyplot as plt\n",
    "\n",
    "# Extract the data for the plot\n",
    "model_names = res.index\n",
    "model_sizes = res['model size']\n",
    "\n",
    "# Create a bar plot for model size\n",
    "plt.figure(figsize=(10, 6))\n",
    "plt.bar(model_names, model_sizes, color='green')\n",
    "plt.xlabel('Models')\n",
    "plt.ylabel('Model Size in GB')\n",
    "plt.title('Bert QA')\n",
    "plt.xticks(rotation=45)  # Rotate the x-axis labels for better visibility\n",
    "\n",
    "# Show the plot\n",
    "plt.tight_layout()\n",
    "plt.show()\n"
   ]
  },
  {
   "cell_type": "code",
   "execution_count": 35,
   "metadata": {},
   "outputs": [],
   "source": [
    "from transformers import AutoModelForQuestionAnswering, AutoTokenizer, pipeline\n",
    "\n",
    "model_name = \"/data1/ViTgpt2/models/bert\"\n",
    "\n",
    "# a) Get predictions\n",
    "nlp = pipeline('question-answering', model=model_name, tokenizer=model_name)\n",
    "QA_input = {\n",
    "    'question': \"What is VOXReality?\",\n",
    "    'context': \"VOXReality is a great project\"\n",
    "}"
   ]
  },
  {
   "cell_type": "code",
   "execution_count": 38,
   "metadata": {},
   "outputs": [
    {
     "data": {
      "text/plain": [
       "{'score': 0.9116794466972351,\n",
       " 'start': 14,\n",
       " 'end': 29,\n",
       " 'answer': 'a great project'}"
      ]
     },
     "execution_count": 38,
     "metadata": {},
     "output_type": "execute_result"
    }
   ],
   "source": [
    "res = nlp(QA_input)\n",
    "res"
   ]
  },
  {
   "cell_type": "code",
   "execution_count": 37,
   "metadata": {},
   "outputs": [],
   "source": [
    "from transformers import AutoTokenizer, pipeline\n",
    "from optimum.onnxruntime import ORTModelForQuestionAnswering\n",
    "\n",
    "tokenizer = AutoTokenizer.from_pretrained(\"/data1/ViTgpt2/models/bert_onnx_pruned\")\n",
    "model = ORTModelForQuestionAnswering.from_pretrained(\"/data1/ViTgpt2/models/bert_onnx_pruned\")\n",
    "onnx_qa = pipeline(\"question-answering\", model=model, tokenizer=tokenizer)\n",
    "\n",
    "question, text = \"What is VOXReality?\", \"VOXReality is a great project\"\n"
   ]
  },
  {
   "cell_type": "code",
   "execution_count": 39,
   "metadata": {},
   "outputs": [
    {
     "data": {
      "text/plain": [
       "{'score': 0.9354177713394165,\n",
       " 'start': 14,\n",
       " 'end': 29,\n",
       " 'answer': 'a great project'}"
      ]
     },
     "execution_count": 39,
     "metadata": {},
     "output_type": "execute_result"
    }
   ],
   "source": [
    "pred = onnx_qa(QA_input)\n",
    "pred"
   ]
  }
 ],
 "metadata": {
  "kernelspec": {
   "display_name": "gpt2env",
   "language": "python",
   "name": "python3"
  },
  "language_info": {
   "codemirror_mode": {
    "name": "ipython",
    "version": 3
   },
   "file_extension": ".py",
   "mimetype": "text/x-python",
   "name": "python",
   "nbconvert_exporter": "python",
   "pygments_lexer": "ipython3",
   "version": "3.10.12"
  },
  "orig_nbformat": 4
 },
 "nbformat": 4,
 "nbformat_minor": 2
}
